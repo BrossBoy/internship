{
 "cells": [
  {
   "cell_type": "code",
   "execution_count": 1,
   "metadata": {},
   "outputs": [],
   "source": [
    "import yfinance as yf\n",
    "import numpy as np\n",
    "import pandas as pd\n",
    "import talib as ta\n",
    "import matplotlib.pyplot as plt\n",
    "\n",
    "import tensorflow as tf\n",
    "from tensorflow.keras import layers, models, optimizers, losses, metrics\n",
    "from tensorflow.keras.preprocessing.sequence import pad_sequences"
   ]
  },
  {
   "cell_type": "markdown",
   "metadata": {},
   "source": [
    "# data prepar"
   ]
  },
  {
   "cell_type": "code",
   "execution_count": 2,
   "metadata": {},
   "outputs": [
    {
     "name": "stderr",
     "output_type": "stream",
     "text": [
      "[*********************100%***********************]  1 of 1 completed\n"
     ]
    }
   ],
   "source": [
    "# Load gold historical data from Yahoo Finance\n",
    "data = yf.download('^XAU', start='2019-01-01', end='2024-01-01') # โหลดข้อมูลมาแล้วระบุวันเริ่มกับวันสุดท้าย"
   ]
  },
  {
   "cell_type": "code",
   "execution_count": 3,
   "metadata": {},
   "outputs": [],
   "source": [
    "data['Return'] = data['Close'].pct_change() # ทำค่าผลต่างเป็นเปอร์เซ็นจากวันปัจจุบันและวันก่อนหน้า return ก็คือผลตอบแทนที่ดได้จากราคาปิดวันนี้เทียบกับเมื่อวาน\n",
    "\n",
    "# Add more technical indicators\n",
    "# หา Simple Moving Average ช่วง 10 และ 50 วัน\n",
    "data['SMA_15'] = ta.SMA(data['Close'].to_numpy().flatten(), timeperiod=15)\n",
    "data['SMA_30'] = ta.SMA(data['Close'].to_numpy().flatten(), timeperiod=30)\n",
    "data['SMA_60'] = ta.SMA(data['Close'].to_numpy().flatten(), timeperiod=60)\n",
    "\n",
    "# หา Relative Strength Index ในช่วง 14 วัน\n",
    "# หาก RSI ต่ำกว่า 30% จะเรียกว่าภาวะ “ขายมากเกินไป” (Oversold)\n",
    "# หาก RSI สูงกว่า 70% จะเรียกว่าภาวะ “ซื้อมากเกินไป” (Overbought)\n",
    "data['RSI'] = ta.RSI(data['Close'].to_numpy().flatten(), timeperiod=14)\n",
    "\n",
    "# หา Moving Average Convergence Divergence ตัว MACD หาได้จากความต่างของ EMA (Exponential Moving Average) สองเส้นหรือ EMA12 - EMA26\n",
    "# เอาไว้ดูคู่กับ signal line เพื่อประกอบการตัดสินใจจังหวะซื้อหรือขาย\n",
    "data['MACD'], data['MACD_Signal'], _ = ta.MACD(data['Close'].to_numpy().flatten(), fastperiod=12, slowperiod=26, signalperiod=9)\n",
    "\n",
    "# Bollinger Bands กรอบราคาที่สามารเหวี่ยงไปได้ทั้งกรอบบน กรอบล่าง\n",
    "data['BB_upper'], data['BB_middle'], data['BB_lower'] = ta.BBANDS(data['Close'].to_numpy().flatten(), timeperiod=20)\n",
    "\n",
    "# หา momentum ซึ่งเป็นอัตราเร่งของราคา\n",
    "data['Momentum'] = ta.MOM(data['Close'].to_numpy().flatten(), timeperiod=10)\n",
    "\n",
    "# หาความผันผวนของราคาปิดเมื่อเทียบกับราคาสูงสุดและต่ำสุด\n",
    "data['Volatility'] = ta.ATR(data['High'].to_numpy().flatten(), data['Low'].to_numpy().flatten(), data['Close'].to_numpy().flatten(), timeperiod=14)  # Added Volatility\n",
    "\n",
    "# หาค่า Stochastic ออกมาเป็นเปอร์เซ็นเพื่อดูพฤติกรรมการซื้อขาย เพื่อหาจุดที่จะเก็งกำไร ส่วนใหญ่ทำในระยะสั้น\n",
    "data['Stochastic'] = ta.STOCH(data['High'].to_numpy().flatten(), data['Low'].to_numpy().flatten(), data['Close'].to_numpy().flatten(), fastk_period=14, slowk_period=3)[0]  # Added Stochastic"
   ]
  },
  {
   "cell_type": "code",
   "execution_count": 4,
   "metadata": {},
   "outputs": [
    {
     "data": {
      "text/html": [
       "<div>\n",
       "<style scoped>\n",
       "    .dataframe tbody tr th:only-of-type {\n",
       "        vertical-align: middle;\n",
       "    }\n",
       "\n",
       "    .dataframe tbody tr th {\n",
       "        vertical-align: top;\n",
       "    }\n",
       "\n",
       "    .dataframe thead tr th {\n",
       "        text-align: left;\n",
       "    }\n",
       "\n",
       "    .dataframe thead tr:last-of-type th {\n",
       "        text-align: right;\n",
       "    }\n",
       "</style>\n",
       "<table border=\"1\" class=\"dataframe\">\n",
       "  <thead>\n",
       "    <tr>\n",
       "      <th>Price</th>\n",
       "      <th>Adj Close</th>\n",
       "      <th>Close</th>\n",
       "      <th>High</th>\n",
       "      <th>Low</th>\n",
       "      <th>Open</th>\n",
       "      <th>Volume</th>\n",
       "      <th>Return</th>\n",
       "      <th>SMA_15</th>\n",
       "      <th>SMA_30</th>\n",
       "      <th>SMA_60</th>\n",
       "      <th>RSI</th>\n",
       "      <th>MACD</th>\n",
       "      <th>MACD_Signal</th>\n",
       "      <th>BB_upper</th>\n",
       "      <th>BB_middle</th>\n",
       "      <th>BB_lower</th>\n",
       "      <th>Momentum</th>\n",
       "      <th>Volatility</th>\n",
       "      <th>Stochastic</th>\n",
       "      <th>Target</th>\n",
       "    </tr>\n",
       "    <tr>\n",
       "      <th>Ticker</th>\n",
       "      <th>^XAU</th>\n",
       "      <th>^XAU</th>\n",
       "      <th>^XAU</th>\n",
       "      <th>^XAU</th>\n",
       "      <th>^XAU</th>\n",
       "      <th>^XAU</th>\n",
       "      <th></th>\n",
       "      <th></th>\n",
       "      <th></th>\n",
       "      <th></th>\n",
       "      <th></th>\n",
       "      <th></th>\n",
       "      <th></th>\n",
       "      <th></th>\n",
       "      <th></th>\n",
       "      <th></th>\n",
       "      <th></th>\n",
       "      <th></th>\n",
       "      <th></th>\n",
       "      <th></th>\n",
       "    </tr>\n",
       "    <tr>\n",
       "      <th>Date</th>\n",
       "      <th></th>\n",
       "      <th></th>\n",
       "      <th></th>\n",
       "      <th></th>\n",
       "      <th></th>\n",
       "      <th></th>\n",
       "      <th></th>\n",
       "      <th></th>\n",
       "      <th></th>\n",
       "      <th></th>\n",
       "      <th></th>\n",
       "      <th></th>\n",
       "      <th></th>\n",
       "      <th></th>\n",
       "      <th></th>\n",
       "      <th></th>\n",
       "      <th></th>\n",
       "      <th></th>\n",
       "      <th></th>\n",
       "      <th></th>\n",
       "    </tr>\n",
       "  </thead>\n",
       "  <tbody>\n",
       "    <tr>\n",
       "      <th>2019-03-28 00:00:00+00:00</th>\n",
       "      <td>76.500000</td>\n",
       "      <td>76.500000</td>\n",
       "      <td>77.629997</td>\n",
       "      <td>75.980003</td>\n",
       "      <td>77.629997</td>\n",
       "      <td>0</td>\n",
       "      <td>-0.025602</td>\n",
       "      <td>76.892000</td>\n",
       "      <td>76.556333</td>\n",
       "      <td>74.479167</td>\n",
       "      <td>50.258699</td>\n",
       "      <td>0.828545</td>\n",
       "      <td>0.725716</td>\n",
       "      <td>79.648093</td>\n",
       "      <td>76.186000</td>\n",
       "      <td>72.723907</td>\n",
       "      <td>1.169998</td>\n",
       "      <td>1.721445</td>\n",
       "      <td>72.853346</td>\n",
       "      <td>0</td>\n",
       "    </tr>\n",
       "    <tr>\n",
       "      <th>2019-03-29 00:00:00+00:00</th>\n",
       "      <td>76.360001</td>\n",
       "      <td>76.360001</td>\n",
       "      <td>77.459999</td>\n",
       "      <td>76.320000</td>\n",
       "      <td>77.120003</td>\n",
       "      <td>0</td>\n",
       "      <td>-0.001830</td>\n",
       "      <td>76.914667</td>\n",
       "      <td>76.618333</td>\n",
       "      <td>74.569500</td>\n",
       "      <td>49.728509</td>\n",
       "      <td>0.696150</td>\n",
       "      <td>0.719802</td>\n",
       "      <td>79.621225</td>\n",
       "      <td>76.302000</td>\n",
       "      <td>72.982775</td>\n",
       "      <td>0.309998</td>\n",
       "      <td>1.679913</td>\n",
       "      <td>53.579437</td>\n",
       "      <td>0</td>\n",
       "    </tr>\n",
       "    <tr>\n",
       "      <th>2019-04-01 00:00:00+00:00</th>\n",
       "      <td>75.089996</td>\n",
       "      <td>75.089996</td>\n",
       "      <td>76.930000</td>\n",
       "      <td>74.599998</td>\n",
       "      <td>76.620003</td>\n",
       "      <td>0</td>\n",
       "      <td>-0.016632</td>\n",
       "      <td>76.885333</td>\n",
       "      <td>76.600000</td>\n",
       "      <td>74.618167</td>\n",
       "      <td>45.082380</td>\n",
       "      <td>0.483177</td>\n",
       "      <td>0.672477</td>\n",
       "      <td>79.602609</td>\n",
       "      <td>76.326000</td>\n",
       "      <td>73.049391</td>\n",
       "      <td>-0.030006</td>\n",
       "      <td>1.726348</td>\n",
       "      <td>34.451885</td>\n",
       "      <td>1</td>\n",
       "    </tr>\n",
       "    <tr>\n",
       "      <th>2019-04-02 00:00:00+00:00</th>\n",
       "      <td>75.279999</td>\n",
       "      <td>75.279999</td>\n",
       "      <td>75.599998</td>\n",
       "      <td>74.889999</td>\n",
       "      <td>75.070000</td>\n",
       "      <td>0</td>\n",
       "      <td>0.002530</td>\n",
       "      <td>76.766000</td>\n",
       "      <td>76.482000</td>\n",
       "      <td>74.675000</td>\n",
       "      <td>45.896798</td>\n",
       "      <td>0.325969</td>\n",
       "      <td>0.603176</td>\n",
       "      <td>79.592978</td>\n",
       "      <td>76.344500</td>\n",
       "      <td>73.096021</td>\n",
       "      <td>-0.120003</td>\n",
       "      <td>1.653752</td>\n",
       "      <td>27.628611</td>\n",
       "      <td>1</td>\n",
       "    </tr>\n",
       "    <tr>\n",
       "      <th>2019-04-03 00:00:00+00:00</th>\n",
       "      <td>75.419998</td>\n",
       "      <td>75.419998</td>\n",
       "      <td>75.989998</td>\n",
       "      <td>75.269997</td>\n",
       "      <td>75.589996</td>\n",
       "      <td>0</td>\n",
       "      <td>0.001860</td>\n",
       "      <td>76.632667</td>\n",
       "      <td>76.348667</td>\n",
       "      <td>74.745333</td>\n",
       "      <td>46.526057</td>\n",
       "      <td>0.210253</td>\n",
       "      <td>0.524591</td>\n",
       "      <td>79.395866</td>\n",
       "      <td>76.457999</td>\n",
       "      <td>73.520132</td>\n",
       "      <td>-1.400002</td>\n",
       "      <td>1.587055</td>\n",
       "      <td>22.371325</td>\n",
       "      <td>1</td>\n",
       "    </tr>\n",
       "  </tbody>\n",
       "</table>\n",
       "</div>"
      ],
      "text/plain": [
       "Price                      Adj Close      Close       High        Low  \\\n",
       "Ticker                          ^XAU       ^XAU       ^XAU       ^XAU   \n",
       "Date                                                                    \n",
       "2019-03-28 00:00:00+00:00  76.500000  76.500000  77.629997  75.980003   \n",
       "2019-03-29 00:00:00+00:00  76.360001  76.360001  77.459999  76.320000   \n",
       "2019-04-01 00:00:00+00:00  75.089996  75.089996  76.930000  74.599998   \n",
       "2019-04-02 00:00:00+00:00  75.279999  75.279999  75.599998  74.889999   \n",
       "2019-04-03 00:00:00+00:00  75.419998  75.419998  75.989998  75.269997   \n",
       "\n",
       "Price                           Open Volume    Return     SMA_15     SMA_30  \\\n",
       "Ticker                          ^XAU   ^XAU                                   \n",
       "Date                                                                          \n",
       "2019-03-28 00:00:00+00:00  77.629997      0 -0.025602  76.892000  76.556333   \n",
       "2019-03-29 00:00:00+00:00  77.120003      0 -0.001830  76.914667  76.618333   \n",
       "2019-04-01 00:00:00+00:00  76.620003      0 -0.016632  76.885333  76.600000   \n",
       "2019-04-02 00:00:00+00:00  75.070000      0  0.002530  76.766000  76.482000   \n",
       "2019-04-03 00:00:00+00:00  75.589996      0  0.001860  76.632667  76.348667   \n",
       "\n",
       "Price                         SMA_60        RSI      MACD MACD_Signal  \\\n",
       "Ticker                                                                  \n",
       "Date                                                                    \n",
       "2019-03-28 00:00:00+00:00  74.479167  50.258699  0.828545    0.725716   \n",
       "2019-03-29 00:00:00+00:00  74.569500  49.728509  0.696150    0.719802   \n",
       "2019-04-01 00:00:00+00:00  74.618167  45.082380  0.483177    0.672477   \n",
       "2019-04-02 00:00:00+00:00  74.675000  45.896798  0.325969    0.603176   \n",
       "2019-04-03 00:00:00+00:00  74.745333  46.526057  0.210253    0.524591   \n",
       "\n",
       "Price                       BB_upper  BB_middle   BB_lower  Momentum  \\\n",
       "Ticker                                                                 \n",
       "Date                                                                   \n",
       "2019-03-28 00:00:00+00:00  79.648093  76.186000  72.723907  1.169998   \n",
       "2019-03-29 00:00:00+00:00  79.621225  76.302000  72.982775  0.309998   \n",
       "2019-04-01 00:00:00+00:00  79.602609  76.326000  73.049391 -0.030006   \n",
       "2019-04-02 00:00:00+00:00  79.592978  76.344500  73.096021 -0.120003   \n",
       "2019-04-03 00:00:00+00:00  79.395866  76.457999  73.520132 -1.400002   \n",
       "\n",
       "Price                     Volatility Stochastic Target  \n",
       "Ticker                                                  \n",
       "Date                                                    \n",
       "2019-03-28 00:00:00+00:00   1.721445  72.853346      0  \n",
       "2019-03-29 00:00:00+00:00   1.679913  53.579437      0  \n",
       "2019-04-01 00:00:00+00:00   1.726348  34.451885      1  \n",
       "2019-04-02 00:00:00+00:00   1.653752  27.628611      1  \n",
       "2019-04-03 00:00:00+00:00   1.587055  22.371325      1  "
      ]
     },
     "execution_count": 4,
     "metadata": {},
     "output_type": "execute_result"
    }
   ],
   "source": [
    "# ทำ label เป็น buy, sell\n",
    "data['Target'] = np.where(data['Return'].shift(-1) > 0, 1, 0)\n",
    "data.dropna(inplace=True)\n",
    "data.head()"
   ]
  },
  {
   "cell_type": "markdown",
   "metadata": {},
   "source": [
    "# funtion for split data"
   ]
  },
  {
   "cell_type": "code",
   "execution_count": 79,
   "metadata": {},
   "outputs": [],
   "source": [
    "def split_data(data, data_range, train_ratio=0.8):\n",
    "    split_range = int(len(data) * train_ratio)\n",
    "\n",
    "    features = [\n",
    "        'Return', 'SMA_15', 'SMA_30', 'SMA_60', 'RSI', 'MACD', 'MACD_Signal',\n",
    "        'BB_upper', 'BB_middle', 'BB_lower', 'Momentum', 'Volatility', 'Stochastic'\n",
    "    ]\n",
    "\n",
    "    pre_x_train = data.iloc[:split_range].loc[:,features]\n",
    "    pre_y_train = data.iloc[:split_range].loc[:,[\"Target\"]]\n",
    "    pre_x_test = data.iloc[split_range:].loc[:,features]\n",
    "    pre_y_test = data.iloc[split_range:].loc[:,[\"Target\"]]\n",
    "    pre_date = data.iloc[split_range:].index.to_list()\n",
    "    x_train = []\n",
    "    y_train = []\n",
    "    x_test = []\n",
    "    y_test = []\n",
    "    date = []\n",
    "    for i in range(len(pre_x_train)-data_range):\n",
    "        # x_tmp = np.transpose(pre_x_train.iloc[i:i+data_range].to_numpy())\n",
    "        x_tmp = pre_x_train.iloc[i:i+data_range].to_numpy()\n",
    "        y_tmp = pre_y_train.iloc[i+data_range-1].to_numpy()\n",
    "        x_train.append(x_tmp)\n",
    "        y_train.append(y_tmp)\n",
    "\n",
    "    for i in range(len(pre_x_test)-data_range):\n",
    "        # x_tmp = np.transpose(pre_x_test.iloc[i:i+data_range].to_numpy())\n",
    "        x_tmp = pre_x_test.iloc[i:i+data_range].to_numpy()\n",
    "        y_tmp = pre_y_test.iloc[i+data_range-1].to_numpy()\n",
    "        x_test.append(x_tmp)\n",
    "        y_test.append(y_tmp)\n",
    "        date.append(pre_date[i+data_range-1])\n",
    "\n",
    "    x_train = np.array(x_train)\n",
    "    y_train = np.array(y_train)\n",
    "    x_test = np.array(x_test)\n",
    "    y_test = np.array(y_test)\n",
    "    print(x_train.shape, y_train.shape, x_test.shape, y_test.shape)\n",
    "    return x_train, y_train, x_test, y_test, date"
   ]
  },
  {
   "cell_type": "code",
   "execution_count": 80,
   "metadata": {},
   "outputs": [
    {
     "name": "stdout",
     "output_type": "stream",
     "text": [
      "(929, 30, 13) (929, 1) (210, 30, 13) (210, 1)\n"
     ]
    }
   ],
   "source": [
    "x_train, y_train, x_test, y_test, date = split_data(data, data_range=30)"
   ]
  },
  {
   "cell_type": "code",
   "execution_count": 7,
   "metadata": {},
   "outputs": [
    {
     "name": "stdout",
     "output_type": "stream",
     "text": [
      "(929, 30, 13) (929, 1) (210, 30, 13) (210, 1)\n"
     ]
    }
   ],
   "source": [
    "print(x_train.shape, y_train.shape, x_test.shape, y_test.shape)"
   ]
  },
  {
   "cell_type": "markdown",
   "metadata": {},
   "source": [
    "# draf model"
   ]
  },
  {
   "cell_type": "code",
   "execution_count": 24,
   "metadata": {},
   "outputs": [],
   "source": [
    "def create_cnn1d_gru_model(input_shape, gru_units=64):\n",
    "    model = models.Sequential()\n",
    "    \n",
    "    # CNN Layers (Convolutional Layer + MaxPooling)\n",
    "    model.add(layers.Conv1D(13, 3, activation='relu', input_shape=input_shape))\n",
    "    model.add(layers.MaxPooling1D(2))\n",
    "    \n",
    "    # model.add(layers.Conv1D(64, 3, activation='relu'))\n",
    "    # model.add(layers.MaxPooling1D(2))\n",
    "    \n",
    "    # model.add(layers.Conv1D(128, 3, activation='relu'))\n",
    "    # model.add(layers.MaxPooling1D(2))\n",
    "    \n",
    "    # Flatten the output from CNN layers to be input to GRU\n",
    "    model.add(layers.Flatten())\n",
    "    \n",
    "    # GRU Layer\n",
    "    model.add(layers.Reshape((-1, 13)))  # Reshape for GRU, where -1 is sequence length, 128 is feature dimension\n",
    "    model.add(layers.GRU(gru_units, return_sequences=False))  # GRU Layer\n",
    "    \n",
    "    # Fully Connected Layer (Dense Layer)\n",
    "    model.add(layers.Dense(13, activation='relu'))\n",
    "    model.add(layers.Dense(2, activation='softmax'))  # Output layer (10 classes, change as needed)\n",
    "\n",
    "    model.compile(\n",
    "        optimizer=optimizers.Adam(learning_rate=1e-4), loss=losses.SparseCategoricalCrossentropy(), \n",
    "        # metrics=[metrics.SparseCategoricalAccuracy(), [metrics.TruePositives(), metrics.TrueNegatives(), metrics.FalsePositives(), metrics.FalseNegatives()],\n",
    "        #          [metrics.Precision(), metrics.Recall(), metrics.F1Score()]]\n",
    "        metrics=[metrics.SparseCategoricalAccuracy()]\n",
    "    )\n",
    "    \n",
    "    return model\n",
    "\n",
    "my_model = create_cnn1d_gru_model(x_train.shape[1:])"
   ]
  },
  {
   "cell_type": "markdown",
   "metadata": {},
   "source": [
    "# train"
   ]
  },
  {
   "cell_type": "code",
   "execution_count": 25,
   "metadata": {},
   "outputs": [
    {
     "name": "stdout",
     "output_type": "stream",
     "text": [
      "Epoch 1/10\n",
      "\u001b[1m10/10\u001b[0m \u001b[32m━━━━━━━━━━━━━━━━━━━━\u001b[0m\u001b[37m\u001b[0m \u001b[1m2s\u001b[0m 5ms/step - loss: 0.7307 - sparse_categorical_accuracy: 0.4972\n",
      "Epoch 2/10\n",
      "\u001b[1m10/10\u001b[0m \u001b[32m━━━━━━━━━━━━━━━━━━━━\u001b[0m\u001b[37m\u001b[0m \u001b[1m0s\u001b[0m 6ms/step - loss: 0.7041 - sparse_categorical_accuracy: 0.5208 \n",
      "Epoch 3/10\n",
      "\u001b[1m10/10\u001b[0m \u001b[32m━━━━━━━━━━━━━━━━━━━━\u001b[0m\u001b[37m\u001b[0m \u001b[1m0s\u001b[0m 6ms/step - loss: 0.6910 - sparse_categorical_accuracy: 0.5514\n",
      "Epoch 4/10\n",
      "\u001b[1m10/10\u001b[0m \u001b[32m━━━━━━━━━━━━━━━━━━━━\u001b[0m\u001b[37m\u001b[0m \u001b[1m0s\u001b[0m 6ms/step - loss: 0.6879 - sparse_categorical_accuracy: 0.5466\n",
      "Epoch 5/10\n",
      "\u001b[1m10/10\u001b[0m \u001b[32m━━━━━━━━━━━━━━━━━━━━\u001b[0m\u001b[37m\u001b[0m \u001b[1m0s\u001b[0m 6ms/step - loss: 0.6868 - sparse_categorical_accuracy: 0.5539 \n",
      "Epoch 6/10\n",
      "\u001b[1m10/10\u001b[0m \u001b[32m━━━━━━━━━━━━━━━━━━━━\u001b[0m\u001b[37m\u001b[0m \u001b[1m0s\u001b[0m 6ms/step - loss: 0.6854 - sparse_categorical_accuracy: 0.5490 \n",
      "Epoch 7/10\n",
      "\u001b[1m10/10\u001b[0m \u001b[32m━━━━━━━━━━━━━━━━━━━━\u001b[0m\u001b[37m\u001b[0m \u001b[1m0s\u001b[0m 6ms/step - loss: 0.6839 - sparse_categorical_accuracy: 0.5566 \n",
      "Epoch 8/10\n",
      "\u001b[1m10/10\u001b[0m \u001b[32m━━━━━━━━━━━━━━━━━━━━\u001b[0m\u001b[37m\u001b[0m \u001b[1m0s\u001b[0m 6ms/step - loss: 0.6870 - sparse_categorical_accuracy: 0.5703 \n",
      "Epoch 9/10\n",
      "\u001b[1m10/10\u001b[0m \u001b[32m━━━━━━━━━━━━━━━━━━━━\u001b[0m\u001b[37m\u001b[0m \u001b[1m0s\u001b[0m 5ms/step - loss: 0.6790 - sparse_categorical_accuracy: 0.5754 \n",
      "Epoch 10/10\n",
      "\u001b[1m10/10\u001b[0m \u001b[32m━━━━━━━━━━━━━━━━━━━━\u001b[0m\u001b[37m\u001b[0m \u001b[1m0s\u001b[0m 5ms/step - loss: 0.6836 - sparse_categorical_accuracy: 0.5605 \n"
     ]
    },
    {
     "data": {
      "text/plain": [
       "{'loss': [0.7203637957572937,\n",
       "  0.6985519528388977,\n",
       "  0.6884393095970154,\n",
       "  0.6851254105567932,\n",
       "  0.6844901442527771,\n",
       "  0.6852001547813416,\n",
       "  0.6841233372688293,\n",
       "  0.6834116578102112,\n",
       "  0.6830641627311707,\n",
       "  0.6830866932868958],\n",
       " 'sparse_categorical_accuracy': [0.5080732107162476,\n",
       "  0.5252960324287415,\n",
       "  0.5543595552444458,\n",
       "  0.5629709362983704,\n",
       "  0.5597416758537292,\n",
       "  0.5522066950798035,\n",
       "  0.5597416758537292,\n",
       "  0.5737351775169373,\n",
       "  0.5640473365783691,\n",
       "  0.567276656627655]}"
      ]
     },
     "execution_count": 25,
     "metadata": {},
     "output_type": "execute_result"
    }
   ],
   "source": [
    "# my_model.summary()\n",
    "history = my_model.fit(x_train, y_train, batch_size=100, epochs=10)\n",
    "history.history"
   ]
  },
  {
   "cell_type": "code",
   "execution_count": 26,
   "metadata": {},
   "outputs": [
    {
     "data": {
      "image/png": "[encoded data removed]",
      "text/plain": [
       "<Figure size 640x480 with 2 Axes>"
      ]
     },
     "metadata": {},
     "output_type": "display_data"
    }
   ],
   "source": [
    "plt.subplot(2, 1, 1)\n",
    "plt.plot(history.history[\"loss\"])\n",
    "plt.subplot(2, 1, 2)\n",
    "plt.plot(history.history[\"sparse_categorical_accuracy\"])\n",
    "plt.show()"
   ]
  },
  {
   "cell_type": "markdown",
   "metadata": {},
   "source": [
    "# predict"
   ]
  },
  {
   "cell_type": "code",
   "execution_count": 27,
   "metadata": {},
   "outputs": [
    {
     "name": "stdout",
     "output_type": "stream",
     "text": [
      "\u001b[1m7/7\u001b[0m \u001b[32m━━━━━━━━━━━━━━━━━━━━\u001b[0m\u001b[37m\u001b[0m \u001b[1m0s\u001b[0m 35ms/step\n"
     ]
    }
   ],
   "source": [
    "prediction = my_model.predict(x_test)"
   ]
  },
  {
   "cell_type": "code",
   "execution_count": null,
   "metadata": {},
   "outputs": [],
   "source": [
    "predict_class = np.where(prediction[:,0] < prediction[:,1], 1, 0)\n",
    "tmp = {\"raw_class_0\":prediction[:,0], \"raw_class_1\":prediction[:,1], \"predict_class\":predict_class, \"real_class\":y_test.reshape(-1)}\n",
    "df = pd.DataFrame(tmp)\n",
    "df.to_csv(\"csv_file/test_predict.csv\", index=False)"
   ]
  },
  {
   "cell_type": "code",
   "execution_count": 78,
   "metadata": {},
   "outputs": [
    {
     "name": "stdout",
     "output_type": "stream",
     "text": [
      "[Timestamp('2023-01-18 00:00:00+0000', tz='UTC'), Timestamp('2023-01-19 00:00:00+0000', tz='UTC'), Timestamp('2023-01-20 00:00:00+0000', tz='UTC'), Timestamp('2023-01-23 00:00:00+0000', tz='UTC'), Timestamp('2023-01-24 00:00:00+0000', tz='UTC'), Timestamp('2023-01-25 00:00:00+0000', tz='UTC'), Timestamp('2023-01-26 00:00:00+0000', tz='UTC'), Timestamp('2023-01-27 00:00:00+0000', tz='UTC'), Timestamp('2023-01-30 00:00:00+0000', tz='UTC'), Timestamp('2023-01-31 00:00:00+0000', tz='UTC'), Timestamp('2023-02-01 00:00:00+0000', tz='UTC'), Timestamp('2023-02-02 00:00:00+0000', tz='UTC'), Timestamp('2023-02-03 00:00:00+0000', tz='UTC'), Timestamp('2023-02-06 00:00:00+0000', tz='UTC'), Timestamp('2023-02-07 00:00:00+0000', tz='UTC'), Timestamp('2023-02-08 00:00:00+0000', tz='UTC'), Timestamp('2023-02-09 00:00:00+0000', tz='UTC'), Timestamp('2023-02-10 00:00:00+0000', tz='UTC'), Timestamp('2023-02-13 00:00:00+0000', tz='UTC'), Timestamp('2023-02-14 00:00:00+0000', tz='UTC'), Timestamp('2023-02-15 00:00:00+0000', tz='UTC'), Timestamp('2023-02-16 00:00:00+0000', tz='UTC'), Timestamp('2023-02-17 00:00:00+0000', tz='UTC'), Timestamp('2023-02-21 00:00:00+0000', tz='UTC'), Timestamp('2023-02-22 00:00:00+0000', tz='UTC'), Timestamp('2023-02-23 00:00:00+0000', tz='UTC'), Timestamp('2023-02-24 00:00:00+0000', tz='UTC'), Timestamp('2023-02-27 00:00:00+0000', tz='UTC'), Timestamp('2023-02-28 00:00:00+0000', tz='UTC'), Timestamp('2023-03-01 00:00:00+0000', tz='UTC'), Timestamp('2023-03-02 00:00:00+0000', tz='UTC'), Timestamp('2023-03-03 00:00:00+0000', tz='UTC'), Timestamp('2023-03-06 00:00:00+0000', tz='UTC'), Timestamp('2023-03-07 00:00:00+0000', tz='UTC'), Timestamp('2023-03-08 00:00:00+0000', tz='UTC'), Timestamp('2023-03-09 00:00:00+0000', tz='UTC'), Timestamp('2023-03-10 00:00:00+0000', tz='UTC'), Timestamp('2023-03-13 00:00:00+0000', tz='UTC'), Timestamp('2023-03-14 00:00:00+0000', tz='UTC'), Timestamp('2023-03-15 00:00:00+0000', tz='UTC'), Timestamp('2023-03-16 00:00:00+0000', tz='UTC'), Timestamp('2023-03-17 00:00:00+0000', tz='UTC'), Timestamp('2023-03-20 00:00:00+0000', tz='UTC'), Timestamp('2023-03-21 00:00:00+0000', tz='UTC'), Timestamp('2023-03-22 00:00:00+0000', tz='UTC'), Timestamp('2023-03-23 00:00:00+0000', tz='UTC'), Timestamp('2023-03-24 00:00:00+0000', tz='UTC'), Timestamp('2023-03-27 00:00:00+0000', tz='UTC'), Timestamp('2023-03-28 00:00:00+0000', tz='UTC'), Timestamp('2023-03-29 00:00:00+0000', tz='UTC'), Timestamp('2023-03-30 00:00:00+0000', tz='UTC'), Timestamp('2023-03-31 00:00:00+0000', tz='UTC'), Timestamp('2023-04-03 00:00:00+0000', tz='UTC'), Timestamp('2023-04-04 00:00:00+0000', tz='UTC'), Timestamp('2023-04-05 00:00:00+0000', tz='UTC'), Timestamp('2023-04-06 00:00:00+0000', tz='UTC'), Timestamp('2023-04-10 00:00:00+0000', tz='UTC'), Timestamp('2023-04-11 00:00:00+0000', tz='UTC'), Timestamp('2023-04-12 00:00:00+0000', tz='UTC'), Timestamp('2023-04-13 00:00:00+0000', tz='UTC'), Timestamp('2023-04-14 00:00:00+0000', tz='UTC'), Timestamp('2023-04-17 00:00:00+0000', tz='UTC'), Timestamp('2023-04-18 00:00:00+0000', tz='UTC'), Timestamp('2023-04-19 00:00:00+0000', tz='UTC'), Timestamp('2023-04-20 00:00:00+0000', tz='UTC'), Timestamp('2023-04-21 00:00:00+0000', tz='UTC'), Timestamp('2023-04-24 00:00:00+0000', tz='UTC'), Timestamp('2023-04-25 00:00:00+0000', tz='UTC'), Timestamp('2023-04-26 00:00:00+0000', tz='UTC'), Timestamp('2023-04-27 00:00:00+0000', tz='UTC'), Timestamp('2023-04-28 00:00:00+0000', tz='UTC'), Timestamp('2023-05-01 00:00:00+0000', tz='UTC'), Timestamp('2023-05-02 00:00:00+0000', tz='UTC'), Timestamp('2023-05-03 00:00:00+0000', tz='UTC'), Timestamp('2023-05-04 00:00:00+0000', tz='UTC'), Timestamp('2023-05-05 00:00:00+0000', tz='UTC'), Timestamp('2023-05-08 00:00:00+0000', tz='UTC'), Timestamp('2023-05-09 00:00:00+0000', tz='UTC'), Timestamp('2023-05-10 00:00:00+0000', tz='UTC'), Timestamp('2023-05-11 00:00:00+0000', tz='UTC'), Timestamp('2023-05-12 00:00:00+0000', tz='UTC'), Timestamp('2023-05-15 00:00:00+0000', tz='UTC'), Timestamp('2023-05-16 00:00:00+0000', tz='UTC'), Timestamp('2023-05-17 00:00:00+0000', tz='UTC'), Timestamp('2023-05-18 00:00:00+0000', tz='UTC'), Timestamp('2023-05-19 00:00:00+0000', tz='UTC'), Timestamp('2023-05-22 00:00:00+0000', tz='UTC'), Timestamp('2023-05-23 00:00:00+0000', tz='UTC'), Timestamp('2023-05-24 00:00:00+0000', tz='UTC'), Timestamp('2023-05-25 00:00:00+0000', tz='UTC'), Timestamp('2023-05-26 00:00:00+0000', tz='UTC'), Timestamp('2023-05-30 00:00:00+0000', tz='UTC'), Timestamp('2023-05-31 00:00:00+0000', tz='UTC'), Timestamp('2023-06-01 00:00:00+0000', tz='UTC'), Timestamp('2023-06-02 00:00:00+0000', tz='UTC'), Timestamp('2023-06-05 00:00:00+0000', tz='UTC'), Timestamp('2023-06-06 00:00:00+0000', tz='UTC'), Timestamp('2023-06-07 00:00:00+0000', tz='UTC'), Timestamp('2023-06-08 00:00:00+0000', tz='UTC'), Timestamp('2023-06-09 00:00:00+0000', tz='UTC'), Timestamp('2023-06-12 00:00:00+0000', tz='UTC'), Timestamp('2023-06-13 00:00:00+0000', tz='UTC'), Timestamp('2023-06-14 00:00:00+0000', tz='UTC'), Timestamp('2023-06-15 00:00:00+0000', tz='UTC'), Timestamp('2023-06-16 00:00:00+0000', tz='UTC'), Timestamp('2023-06-20 00:00:00+0000', tz='UTC'), Timestamp('2023-06-21 00:00:00+0000', tz='UTC'), Timestamp('2023-06-22 00:00:00+0000', tz='UTC'), Timestamp('2023-06-23 00:00:00+0000', tz='UTC'), Timestamp('2023-06-26 00:00:00+0000', tz='UTC'), Timestamp('2023-06-27 00:00:00+0000', tz='UTC'), Timestamp('2023-06-28 00:00:00+0000', tz='UTC'), Timestamp('2023-06-29 00:00:00+0000', tz='UTC'), Timestamp('2023-06-30 00:00:00+0000', tz='UTC'), Timestamp('2023-07-03 00:00:00+0000', tz='UTC'), Timestamp('2023-07-05 00:00:00+0000', tz='UTC'), Timestamp('2023-07-06 00:00:00+0000', tz='UTC'), Timestamp('2023-07-07 00:00:00+0000', tz='UTC'), Timestamp('2023-07-10 00:00:00+0000', tz='UTC'), Timestamp('2023-07-11 00:00:00+0000', tz='UTC'), Timestamp('2023-07-12 00:00:00+0000', tz='UTC'), Timestamp('2023-07-13 00:00:00+0000', tz='UTC'), Timestamp('2023-07-14 00:00:00+0000', tz='UTC'), Timestamp('2023-07-17 00:00:00+0000', tz='UTC'), Timestamp('2023-07-18 00:00:00+0000', tz='UTC'), Timestamp('2023-07-19 00:00:00+0000', tz='UTC'), Timestamp('2023-07-20 00:00:00+0000', tz='UTC'), Timestamp('2023-07-21 00:00:00+0000', tz='UTC'), Timestamp('2023-07-24 00:00:00+0000', tz='UTC'), Timestamp('2023-07-25 00:00:00+0000', tz='UTC'), Timestamp('2023-07-26 00:00:00+0000', tz='UTC'), Timestamp('2023-07-27 00:00:00+0000', tz='UTC'), Timestamp('2023-07-28 00:00:00+0000', tz='UTC'), Timestamp('2023-07-31 00:00:00+0000', tz='UTC'), Timestamp('2023-08-01 00:00:00+0000', tz='UTC'), Timestamp('2023-08-02 00:00:00+0000', tz='UTC'), Timestamp('2023-08-03 00:00:00+0000', tz='UTC'), Timestamp('2023-08-04 00:00:00+0000', tz='UTC'), Timestamp('2023-08-07 00:00:00+0000', tz='UTC'), Timestamp('2023-08-08 00:00:00+0000', tz='UTC'), Timestamp('2023-08-09 00:00:00+0000', tz='UTC'), Timestamp('2023-08-10 00:00:00+0000', tz='UTC'), Timestamp('2023-08-11 00:00:00+0000', tz='UTC'), Timestamp('2023-08-14 00:00:00+0000', tz='UTC'), Timestamp('2023-08-15 00:00:00+0000', tz='UTC'), Timestamp('2023-08-16 00:00:00+0000', tz='UTC'), Timestamp('2023-08-17 00:00:00+0000', tz='UTC'), Timestamp('2023-08-18 00:00:00+0000', tz='UTC'), Timestamp('2023-08-21 00:00:00+0000', tz='UTC'), Timestamp('2023-08-22 00:00:00+0000', tz='UTC'), Timestamp('2023-08-23 00:00:00+0000', tz='UTC'), Timestamp('2023-08-24 00:00:00+0000', tz='UTC'), Timestamp('2023-08-25 00:00:00+0000', tz='UTC'), Timestamp('2023-08-28 00:00:00+0000', tz='UTC'), Timestamp('2023-08-29 00:00:00+0000', tz='UTC'), Timestamp('2023-08-30 00:00:00+0000', tz='UTC'), Timestamp('2023-08-31 00:00:00+0000', tz='UTC'), Timestamp('2023-09-01 00:00:00+0000', tz='UTC'), Timestamp('2023-09-05 00:00:00+0000', tz='UTC'), Timestamp('2023-09-06 00:00:00+0000', tz='UTC'), Timestamp('2023-09-07 00:00:00+0000', tz='UTC'), Timestamp('2023-09-08 00:00:00+0000', tz='UTC'), Timestamp('2023-09-11 00:00:00+0000', tz='UTC'), Timestamp('2023-09-12 00:00:00+0000', tz='UTC'), Timestamp('2023-09-13 00:00:00+0000', tz='UTC'), Timestamp('2023-09-14 00:00:00+0000', tz='UTC'), Timestamp('2023-09-15 00:00:00+0000', tz='UTC'), Timestamp('2023-09-18 00:00:00+0000', tz='UTC'), Timestamp('2023-09-19 00:00:00+0000', tz='UTC'), Timestamp('2023-09-20 00:00:00+0000', tz='UTC'), Timestamp('2023-09-21 00:00:00+0000', tz='UTC'), Timestamp('2023-09-22 00:00:00+0000', tz='UTC'), Timestamp('2023-09-25 00:00:00+0000', tz='UTC'), Timestamp('2023-09-26 00:00:00+0000', tz='UTC'), Timestamp('2023-09-27 00:00:00+0000', tz='UTC'), Timestamp('2023-09-28 00:00:00+0000', tz='UTC'), Timestamp('2023-09-29 00:00:00+0000', tz='UTC'), Timestamp('2023-10-02 00:00:00+0000', tz='UTC'), Timestamp('2023-10-03 00:00:00+0000', tz='UTC'), Timestamp('2023-10-04 00:00:00+0000', tz='UTC'), Timestamp('2023-10-05 00:00:00+0000', tz='UTC'), Timestamp('2023-10-06 00:00:00+0000', tz='UTC'), Timestamp('2023-10-09 00:00:00+0000', tz='UTC'), Timestamp('2023-10-10 00:00:00+0000', tz='UTC'), Timestamp('2023-10-11 00:00:00+0000', tz='UTC'), Timestamp('2023-10-12 00:00:00+0000', tz='UTC'), Timestamp('2023-10-13 00:00:00+0000', tz='UTC'), Timestamp('2023-10-16 00:00:00+0000', tz='UTC'), Timestamp('2023-10-17 00:00:00+0000', tz='UTC'), Timestamp('2023-10-18 00:00:00+0000', tz='UTC'), Timestamp('2023-10-19 00:00:00+0000', tz='UTC'), Timestamp('2023-10-20 00:00:00+0000', tz='UTC'), Timestamp('2023-10-23 00:00:00+0000', tz='UTC'), Timestamp('2023-10-24 00:00:00+0000', tz='UTC'), Timestamp('2023-10-25 00:00:00+0000', tz='UTC'), Timestamp('2023-10-26 00:00:00+0000', tz='UTC'), Timestamp('2023-10-27 00:00:00+0000', tz='UTC'), Timestamp('2023-10-30 00:00:00+0000', tz='UTC'), Timestamp('2023-10-31 00:00:00+0000', tz='UTC'), Timestamp('2023-11-01 00:00:00+0000', tz='UTC'), Timestamp('2023-11-02 00:00:00+0000', tz='UTC'), Timestamp('2023-11-03 00:00:00+0000', tz='UTC'), Timestamp('2023-11-06 00:00:00+0000', tz='UTC'), Timestamp('2023-11-07 00:00:00+0000', tz='UTC'), Timestamp('2023-11-08 00:00:00+0000', tz='UTC'), Timestamp('2023-11-09 00:00:00+0000', tz='UTC'), Timestamp('2023-11-10 00:00:00+0000', tz='UTC'), Timestamp('2023-11-13 00:00:00+0000', tz='UTC'), Timestamp('2023-11-14 00:00:00+0000', tz='UTC'), Timestamp('2023-11-15 00:00:00+0000', tz='UTC'), Timestamp('2023-11-16 00:00:00+0000', tz='UTC'), Timestamp('2023-11-17 00:00:00+0000', tz='UTC'), Timestamp('2023-11-20 00:00:00+0000', tz='UTC'), Timestamp('2023-11-21 00:00:00+0000', tz='UTC'), Timestamp('2023-11-22 00:00:00+0000', tz='UTC'), Timestamp('2023-11-24 00:00:00+0000', tz='UTC'), Timestamp('2023-11-27 00:00:00+0000', tz='UTC'), Timestamp('2023-11-28 00:00:00+0000', tz='UTC'), Timestamp('2023-11-29 00:00:00+0000', tz='UTC'), Timestamp('2023-11-30 00:00:00+0000', tz='UTC'), Timestamp('2023-12-01 00:00:00+0000', tz='UTC'), Timestamp('2023-12-04 00:00:00+0000', tz='UTC'), Timestamp('2023-12-05 00:00:00+0000', tz='UTC'), Timestamp('2023-12-06 00:00:00+0000', tz='UTC'), Timestamp('2023-12-07 00:00:00+0000', tz='UTC'), Timestamp('2023-12-08 00:00:00+0000', tz='UTC'), Timestamp('2023-12-11 00:00:00+0000', tz='UTC'), Timestamp('2023-12-12 00:00:00+0000', tz='UTC'), Timestamp('2023-12-13 00:00:00+0000', tz='UTC'), Timestamp('2023-12-14 00:00:00+0000', tz='UTC'), Timestamp('2023-12-15 00:00:00+0000', tz='UTC'), Timestamp('2023-12-18 00:00:00+0000', tz='UTC'), Timestamp('2023-12-19 00:00:00+0000', tz='UTC'), Timestamp('2023-12-20 00:00:00+0000', tz='UTC'), Timestamp('2023-12-21 00:00:00+0000', tz='UTC'), Timestamp('2023-12-22 00:00:00+0000', tz='UTC'), Timestamp('2023-12-26 00:00:00+0000', tz='UTC'), Timestamp('2023-12-27 00:00:00+0000', tz='UTC'), Timestamp('2023-12-28 00:00:00+0000', tz='UTC'), Timestamp('2023-12-29 00:00:00+0000', tz='UTC')]\n"
     ]
    }
   ],
   "source": [
    "print(date)"
   ]
  },
  {
   "cell_type": "code",
   "execution_count": 81,
   "metadata": {},
   "outputs": [
    {
     "name": "stdout",
     "output_type": "stream",
     "text": [
      "210 210 210 210\n"
     ]
    }
   ],
   "source": [
    "print(len(date), len(predict_class), len(prediction), len(y_test))"
   ]
  },
  {
   "cell_type": "markdown",
   "metadata": {},
   "source": [
    "# back test"
   ]
  },
  {
   "cell_type": "code",
   "execution_count": 82,
   "metadata": {},
   "outputs": [],
   "source": [
    "# Backtesting with updated features and better portfolio simulation\n",
    "capital = 10000  # Initial capital\n",
    "capital_history = []\n",
    "\n",
    "my_dict = {\"price_today\": [], \"price_next_day\": [], \"prediction\": predict_class, \"capital\": [], \"profit\": []}\n",
    "\n",
    "# Map test indices to the original DataFrame\n",
    "# test_indices = y_test.index.to_list() # คาดว่าวันไม่เรียง\n",
    "\n",
    "# Trade logic with stop-loss and take-profit to reduce risk\n",
    "for i in range(len(date)-1):\n",
    "    price_today = data['Close'].loc[date[i]][\"^XAU\"]\n",
    "    price_next_day = data['Close'].loc[date[i+1]][\"^XAU\"]\n",
    "\n",
    "    stop_loss_pct = 0.02  # 2% stop loss\n",
    "    take_profit_pct = 0.05  # 5% take profit\n",
    "\n",
    "    capital *= 0.999 # หักค่าธรรมเนีม\n",
    "\n",
    "    # Long position logic (buy if predicted up)\n",
    "    if predict_class[i] == 1:\n",
    "        profit = (price_next_day - price_today) / price_today * capital\n",
    "        if profit < -stop_loss_pct * capital:\n",
    "            profit = -stop_loss_pct * capital  # Stop loss triggered\n",
    "        elif profit > take_profit_pct * capital:\n",
    "            profit = take_profit_pct * capital  # Take profit triggered\n",
    "    else:  # Short position logic (sell if predicted down)\n",
    "        profit = (price_today - price_next_day) / price_today * capital\n",
    "        if profit < -stop_loss_pct * capital:\n",
    "            profit = -stop_loss_pct * capital  # Stop loss triggered\n",
    "        elif profit > take_profit_pct * capital:\n",
    "            profit = take_profit_pct * capital  # Take profit triggered    \n",
    "\n",
    "    capital += profit\n",
    "    \n",
    "    capital *= 0.999\n",
    "\n",
    "    capital_history.append(capital)\n",
    "    my_dict[\"price_today\"].append(price_today)\n",
    "    my_dict[\"price_next_day\"].append(price_next_day)\n",
    "    my_dict[\"capital\"].append(capital)\n",
    "    my_dict[\"profit\"].append(profit)\n"
   ]
  },
  {
   "cell_type": "code",
   "execution_count": 83,
   "metadata": {},
   "outputs": [
    {
     "data": {
      "image/png": "[encoded data removed]",
      "text/plain": [
       "<Figure size 1200x600 with 1 Axes>"
      ]
     },
     "metadata": {},
     "output_type": "display_data"
    }
   ],
   "source": [
    "# Plot backtest results\n",
    "plt.figure(figsize=(12, 6))\n",
    "plt.plot(capital_history, label='Portfolio Value')\n",
    "plt.title('Backtest of Enhanced BTC Long/Short Strategy')\n",
    "plt.xlabel('Trade Days')\n",
    "plt.ylabel('Portfolio Value (USD)')\n",
    "plt.legend()\n",
    "plt.grid(True)\n",
    "plt.show()"
   ]
  },
  {
   "cell_type": "markdown",
   "metadata": {},
   "source": [
    "# เพิ่มเติมจาก gpt"
   ]
  },
  {
   "cell_type": "markdown",
   "metadata": {},
   "source": [
    "gpt ชุด 1"
   ]
  },
  {
   "cell_type": "code",
   "execution_count": null,
   "metadata": {},
   "outputs": [],
   "source": [
    "import yfinance as yf\n",
    "import pandas as pd\n",
    "from sklearn.model_selection import train_test_split\n",
    "from sklearn.ensemble import RandomForestClassifier\n",
    "from sklearn.metrics import classification_report\n",
    "import backtrader as bt # อันนี้น่าสนใจในการทำ backtest\n",
    "\n",
    "# Step 1: ดึงข้อมูลจาก Yahoo Finance\n",
    "data = yf.download('BTC-USD', start='2023-11-20', end='2024-11-20', progress=False)\n",
    "\n",
    "# Step 2: สร้าง Feature สำหรับ Machine Learning\n",
    "data['price_roc'] = data['Close'].pct_change() * 100  # Rate of Change ของราคา\n",
    "data['volume_roc'] = data['Volume'].pct_change() * 100  # Rate of Change ของ volume\n",
    "data = data.dropna()  # ลบค่า NaN ที่เกิดจากการคำนวณ\n",
    "\n",
    "# Step 3: กำหนด Target (1 = long, -1 = short)\n",
    "data['target'] = 0\n",
    "data.loc[data['price_roc'] > 0, 'target'] = 1  # long หากราคาเพิ่มขึ้น\n",
    "data.loc[data['price_roc'] < 0, 'target'] = -1  # short หากราคาลดลง\n",
    "\n",
    "# Step 4: การเตรียมข้อมูลสำหรับการฝึก Machine Learning\n",
    "X = data[['price_roc', 'volume_roc']]  # Features\n",
    "y = data['target']  # Target\n",
    "\n",
    "# แบ่งข้อมูลเป็น train/test (70% training, 30% testing)\n",
    "X_train, X_test, y_train, y_test = train_test_split(X, y, test_size=0.3, shuffle=False)\n",
    "\n",
    "# สร้างและฝึกโมเดล Machine Learning\n",
    "model = RandomForestClassifier(n_estimators=100, random_state=42)\n",
    "model.fit(X_train, y_train)\n",
    "\n",
    "# ทำนายผลใน test set\n",
    "y_pred = model.predict(X_test)\n",
    "\n",
    "# แสดงผลการทำนาย\n",
    "print(classification_report(y_test, y_pred))\n",
    "\n",
    "# Step 5: สร้าง Strategy สำหรับ Backtrader\n",
    "class MLStrategy(bt.Strategy):\n",
    "    # กำหนดค่า parameter สำหรับการเข้าสู่ตลาด\n",
    "    def __init__(self):\n",
    "        self.model = model\n",
    "        self.data_close = self.datas[0].close\n",
    "        self.data_volume = self.datas[0].volume\n",
    "        self.X = pd.DataFrame({\n",
    "            'price_roc': self.data_close.pct_change() * 100,\n",
    "            'volume_roc': self.data_volume.pct_change() * 100\n",
    "        })\n",
    "        self.X = self.X.fillna(0)  # แทนที่ NaN ด้วย 0 เพื่อให้ไม่เกิดข้อผิดพลาดในการทำนาย\n",
    "        self.y_pred = self.model.predict(self.X.values)  # ทำนายคำสั่ง Long/Short\n",
    "    \n",
    "    def next(self):\n",
    "        if self.y_pred[-1] == 1:  # หากทำนาย long\n",
    "            if not self.position:  # ถ้ายังไม่ได้เปิด position\n",
    "                self.buy()\n",
    "        elif self.y_pred[-1] == -1:  # หากทำนาย short\n",
    "            if not self.position:  # ถ้ายังไม่ได้เปิด position\n",
    "                self.sell()\n",
    "\n",
    "# Step 6: การทำ Backtest โดยใช้ Backtrader\n",
    "cerebro = bt.Cerebro()\n",
    "\n",
    "# แปลงข้อมูลเป็น backtrader feed\n",
    "data_bt = bt.feeds.PandasData(dataname=data)\n",
    "\n",
    "# เพิ่มข้อมูลลงใน cerebro\n",
    "cerebro.adddata(data_bt)\n",
    "\n",
    "# เพิ่ม strategy ที่สร้างขึ้น\n",
    "cerebro.addstrategy(MLStrategy)\n",
    "\n",
    "# ตั้งค่าขนาดการลงทุนเริ่มต้น\n",
    "cerebro.broker.set_cash(10000)\n",
    "\n",
    "# ตั้งค่าค่าคอมมิชชั่น (เช่น 0.1% ต่อการเทรด)\n",
    "cerebro.broker.set_commission(commission=0.001)\n",
    "\n",
    "# รัน backtest\n",
    "cerebro.run()\n",
    "\n",
    "# แสดงกราฟผลลัพธ์\n",
    "cerebro.plot()"
   ]
  },
  {
   "cell_type": "markdown",
   "metadata": {},
   "source": [
    "gpt ชุด 2"
   ]
  },
  {
   "cell_type": "code",
   "execution_count": null,
   "metadata": {},
   "outputs": [],
   "source": [
    "import numpy as np\n",
    "import tensorflow as tf\n",
    "from tensorflow.keras import layers, models\n",
    "from tensorflow.keras.preprocessing.sequence import pad_sequences\n",
    "\n",
    "# ตัวอย่างการสร้างโมเดล CNN + GRU\n",
    "\n",
    "# สร้างโมเดล CNN + GRU\n",
    "def create_cnn_gru_model(input_shape, gru_units=64):\n",
    "    model = models.Sequential()\n",
    "    \n",
    "    # CNN Layers (Convolutional Layer + MaxPooling)\n",
    "    model.add(layers.Conv2D(32, (3, 3), activation='relu', input_shape=input_shape))\n",
    "    model.add(layers.MaxPooling2D((2, 2)))\n",
    "    \n",
    "    model.add(layers.Conv2D(64, (3, 3), activation='relu'))\n",
    "    model.add(layers.MaxPooling2D((2, 2)))\n",
    "    \n",
    "    model.add(layers.Conv2D(128, (3, 3), activation='relu'))\n",
    "    model.add(layers.MaxPooling2D((2, 2)))\n",
    "    \n",
    "    # Flatten the output from CNN layers to be input to GRU\n",
    "    model.add(layers.Flatten())\n",
    "    \n",
    "    # GRU Layer\n",
    "    model.add(layers.Reshape((-1, 128)))  # Reshape for GRU, where -1 is sequence length, 128 is feature dimension\n",
    "    model.add(layers.GRU(gru_units, return_sequences=False))  # GRU Layer\n",
    "    \n",
    "    # Fully Connected Layer (Dense Layer)\n",
    "    model.add(layers.Dense(128, activation='relu'))\n",
    "    model.add(layers.Dense(10, activation='softmax'))  # Output layer (10 classes, change as needed)\n",
    "    \n",
    "    return model\n",
    "\n",
    "# สร้างโมเดล CNN + GRU\n",
    "input_shape = (64, 64, 3)  # ขนาดของภาพ (64x64 พิกเซล, 3 แชนแนล RGB)\n",
    "model = create_cnn_gru_model(input_shape)\n",
    "\n",
    "# คอมไพล์โมเดล\n",
    "model.compile(optimizer='adam', loss='categorical_crossentropy', metrics=['accuracy'])\n",
    "\n",
    "# แสดงสรุปของโมเดล\n",
    "model.summary()\n",
    "\n",
    "# ตัวอย่างการฝึกโมเดล\n",
    "# สมมุติว่าเรามีข้อมูล train_X และ train_Y เป็นข้อมูลที่ประกอบด้วยลำดับของภาพ\n",
    "train_X = np.random.rand(100, 10, 64, 64, 3)  # 100 ตัวอย่าง, 10 ภาพในแต่ละลำดับ\n",
    "train_Y = np.random.randint(0, 10, (100,))  # 100 ป้ายกำกับ (10 คลาส)\n",
    "\n",
    "# การฝึกโมเดล\n",
    "model.fit(train_X, train_Y, epochs=10, batch_size=16)\n"
   ]
  }
 ],
 "metadata": {
  "kernelspec": {
   "display_name": "venv",
   "language": "python",
   "name": "python3"
  },
  "language_info": {
   "codemirror_mode": {
    "name": "ipython",
    "version": 3
   },
   "file_extension": ".py",
   "mimetype": "text/x-python",
   "name": "python",
   "nbconvert_exporter": "python",
   "pygments_lexer": "ipython3",
   "version": "3.10.11"
  }
 },
 "nbformat": 4,
 "nbformat_minor": 2
}
