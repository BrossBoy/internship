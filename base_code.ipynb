{
 "cells": [
  {
   "cell_type": "markdown",
   "metadata": {},
   "source": [
    "# import libary"
   ]
  },
  {
   "cell_type": "code",
   "execution_count": 1,
   "metadata": {},
   "outputs": [],
   "source": [
    "import yfinance as yf\n",
    "import numpy as np\n",
    "import pandas as pd\n",
    "from xgboost import XGBClassifier\n",
    "from sklearn.model_selection import train_test_split, cross_val_score, GridSearchCV\n",
    "from sklearn.preprocessing import StandardScaler\n",
    "from sklearn.metrics import accuracy_score\n",
    "import talib as ta\n",
    "import matplotlib.pyplot as plt"
   ]
  },
  {
   "cell_type": "markdown",
   "metadata": {},
   "source": [
    "# get data from yahoo finance and add detail"
   ]
  },
  {
   "cell_type": "code",
   "execution_count": 2,
   "metadata": {},
   "outputs": [
    {
     "name": "stderr",
     "output_type": "stream",
     "text": [
      "[*********************100%***********************]  1 of 1 completed\n"
     ]
    },
    {
     "data": {
      "text/html": [
       "<div>\n",
       "<style scoped>\n",
       "    .dataframe tbody tr th:only-of-type {\n",
       "        vertical-align: middle;\n",
       "    }\n",
       "\n",
       "    .dataframe tbody tr th {\n",
       "        vertical-align: top;\n",
       "    }\n",
       "\n",
       "    .dataframe thead tr th {\n",
       "        text-align: left;\n",
       "    }\n",
       "\n",
       "    .dataframe thead tr:last-of-type th {\n",
       "        text-align: right;\n",
       "    }\n",
       "</style>\n",
       "<table border=\"1\" class=\"dataframe\">\n",
       "  <thead>\n",
       "    <tr>\n",
       "      <th>Price</th>\n",
       "      <th>Adj Close</th>\n",
       "      <th>Close</th>\n",
       "      <th>High</th>\n",
       "      <th>Low</th>\n",
       "      <th>Open</th>\n",
       "      <th>Volume</th>\n",
       "      <th>Return</th>\n",
       "      <th>Volume_Change</th>\n",
       "    </tr>\n",
       "    <tr>\n",
       "      <th>Ticker</th>\n",
       "      <th>BTC-USD</th>\n",
       "      <th>BTC-USD</th>\n",
       "      <th>BTC-USD</th>\n",
       "      <th>BTC-USD</th>\n",
       "      <th>BTC-USD</th>\n",
       "      <th>BTC-USD</th>\n",
       "      <th></th>\n",
       "      <th></th>\n",
       "    </tr>\n",
       "    <tr>\n",
       "      <th>Date</th>\n",
       "      <th></th>\n",
       "      <th></th>\n",
       "      <th></th>\n",
       "      <th></th>\n",
       "      <th></th>\n",
       "      <th></th>\n",
       "      <th></th>\n",
       "      <th></th>\n",
       "    </tr>\n",
       "  </thead>\n",
       "  <tbody>\n",
       "    <tr>\n",
       "      <th>2019-01-01 00:00:00+00:00</th>\n",
       "      <td>3843.520020</td>\n",
       "      <td>3843.520020</td>\n",
       "      <td>3850.913818</td>\n",
       "      <td>3707.231201</td>\n",
       "      <td>3746.713379</td>\n",
       "      <td>4324200990</td>\n",
       "      <td>NaN</td>\n",
       "      <td>NaN</td>\n",
       "    </tr>\n",
       "    <tr>\n",
       "      <th>2019-01-02 00:00:00+00:00</th>\n",
       "      <td>3943.409424</td>\n",
       "      <td>3943.409424</td>\n",
       "      <td>3947.981201</td>\n",
       "      <td>3817.409424</td>\n",
       "      <td>3849.216309</td>\n",
       "      <td>5244856836</td>\n",
       "      <td>0.025989</td>\n",
       "      <td>0.212908</td>\n",
       "    </tr>\n",
       "    <tr>\n",
       "      <th>2019-01-03 00:00:00+00:00</th>\n",
       "      <td>3836.741211</td>\n",
       "      <td>3836.741211</td>\n",
       "      <td>3935.685059</td>\n",
       "      <td>3826.222900</td>\n",
       "      <td>3931.048584</td>\n",
       "      <td>4530215219</td>\n",
       "      <td>-0.027050</td>\n",
       "      <td>-0.136256</td>\n",
       "    </tr>\n",
       "    <tr>\n",
       "      <th>2019-01-04 00:00:00+00:00</th>\n",
       "      <td>3857.717529</td>\n",
       "      <td>3857.717529</td>\n",
       "      <td>3865.934570</td>\n",
       "      <td>3783.853760</td>\n",
       "      <td>3832.040039</td>\n",
       "      <td>4847965467</td>\n",
       "      <td>0.005467</td>\n",
       "      <td>0.070140</td>\n",
       "    </tr>\n",
       "    <tr>\n",
       "      <th>2019-01-05 00:00:00+00:00</th>\n",
       "      <td>3845.194580</td>\n",
       "      <td>3845.194580</td>\n",
       "      <td>3904.903076</td>\n",
       "      <td>3836.900146</td>\n",
       "      <td>3851.973877</td>\n",
       "      <td>5137609824</td>\n",
       "      <td>-0.003246</td>\n",
       "      <td>0.059746</td>\n",
       "    </tr>\n",
       "  </tbody>\n",
       "</table>\n",
       "</div>"
      ],
      "text/plain": [
       "Price                        Adj Close        Close         High          Low  \\\n",
       "Ticker                         BTC-USD      BTC-USD      BTC-USD      BTC-USD   \n",
       "Date                                                                            \n",
       "2019-01-01 00:00:00+00:00  3843.520020  3843.520020  3850.913818  3707.231201   \n",
       "2019-01-02 00:00:00+00:00  3943.409424  3943.409424  3947.981201  3817.409424   \n",
       "2019-01-03 00:00:00+00:00  3836.741211  3836.741211  3935.685059  3826.222900   \n",
       "2019-01-04 00:00:00+00:00  3857.717529  3857.717529  3865.934570  3783.853760   \n",
       "2019-01-05 00:00:00+00:00  3845.194580  3845.194580  3904.903076  3836.900146   \n",
       "\n",
       "Price                             Open      Volume    Return Volume_Change  \n",
       "Ticker                         BTC-USD     BTC-USD                          \n",
       "Date                                                                        \n",
       "2019-01-01 00:00:00+00:00  3746.713379  4324200990       NaN           NaN  \n",
       "2019-01-02 00:00:00+00:00  3849.216309  5244856836  0.025989      0.212908  \n",
       "2019-01-03 00:00:00+00:00  3931.048584  4530215219 -0.027050     -0.136256  \n",
       "2019-01-04 00:00:00+00:00  3832.040039  4847965467  0.005467      0.070140  \n",
       "2019-01-05 00:00:00+00:00  3851.973877  5137609824 -0.003246      0.059746  "
      ]
     },
     "execution_count": 2,
     "metadata": {},
     "output_type": "execute_result"
    }
   ],
   "source": [
    "# Load BTC historical data from Yahoo Finance\n",
    "data = yf.download('BTC-USD', start='2019-01-01', end='2024-11-17') # โหลดข้อมูลมาแล้วระบุวันเริ่มกับวันสุดท้าย\n",
    "\n",
    "data['Return'] = data['Close'].pct_change() # ทำค่าผลต่างเป็นเปอร์เซ็นจากวันปัจจุบันและวันก่อนหน้า return ก็คือผลตอบแทนที่ดได้จากราคาปิดวันนี้เทียบกับเมื่อวาน\n",
    "data['Volume_Change'] = data['Volume'].pct_change() # จำนวนหุ้นที่เปลี่ยนแปลงวันต่อวันเป็นเปอร์เซ็น\n",
    "data.head()"
   ]
  },
  {
   "cell_type": "code",
   "execution_count": 3,
   "metadata": {},
   "outputs": [],
   "source": [
    "# Add more technical indicators\n",
    "# หา Simple Moving Average ช่วง 10 และ 50 วัน\n",
    "data['SMA_10'] = ta.SMA(data['Close'].to_numpy().flatten(), timeperiod=10)\n",
    "data['SMA_50'] = ta.SMA(data['Close'].to_numpy().flatten(), timeperiod=50)\n",
    "\n",
    "# หา Relative Strength Index ในช่วง 14 วัน\n",
    "# หาก RSI ต่ำกว่า 30% จะเรียกว่าภาวะ “ขายมากเกินไป” (Oversold)\n",
    "# หาก RSI สูงกว่า 70% จะเรียกว่าภาวะ “ซื้อมากเกินไป” (Overbought)\n",
    "data['RSI'] = ta.RSI(data['Close'].to_numpy().flatten(), timeperiod=14)\n",
    "\n",
    "# หา Moving Average Convergence Divergence ตัว MACD หาได้จากความต่างของ EMA (Exponential Moving Average) สองเส้นหรือ EMA12 - EMA26\n",
    "# เอาไว้ดูคู่กับ signal line เพื่อประกอบการตัดสินใจจังหวะซื้อหรือขาย\n",
    "data['MACD'], data['MACD_Signal'], _ = ta.MACD(data['Close'].to_numpy().flatten(), fastperiod=12, slowperiod=26, signalperiod=9)\n",
    "\n",
    "# Bollinger Bands กรอบราคาที่สามารเหวี่ยงไปได้ทั้งกรอบบน กรอบล่าง\n",
    "data['BB_upper'], data['BB_middle'], data['BB_lower'] = ta.BBANDS(data['Close'].to_numpy().flatten(), timeperiod=20)\n",
    "\n",
    "# หา momentum ซึ่งเป็นอัตราเร่งของราคา\n",
    "data['Momentum'] = ta.MOM(data['Close'].to_numpy().flatten(), timeperiod=10)\n",
    "\n",
    "# หาความผันผวนของราคาปิดเมื่อเทียบกับราคาสูงสุดและต่ำสุด\n",
    "data['Volatility'] = ta.ATR(data['High'].to_numpy().flatten(), data['Low'].to_numpy().flatten(), data['Close'].to_numpy().flatten(), timeperiod=14)  # Added Volatility\n",
    "\n",
    "# หาค่า Stochastic ออกมาเป็นเปอร์เซ็นเพื่อดูพฤติกรรมการซื้อขาย เพื่อหาจุดที่จะเก็งกำไร ส่วนใหญ่ทำในระยะสั้น\n",
    "data['Stochastic'] = ta.STOCH(data['High'].to_numpy().flatten(), data['Low'].to_numpy().flatten(), data['Close'].to_numpy().flatten(), fastk_period=14, slowk_period=3)[0]  # Added Stochastic"
   ]
  },
  {
   "cell_type": "code",
   "execution_count": 4,
   "metadata": {},
   "outputs": [],
   "source": [
    "# Create lag features for capturing trends\n",
    "# อาจจะทำ lag เพื่อดูตอนย้อนกับปัจจุบัน\n",
    "# shift ข้อมูลลง 1 row\n",
    "data['Return_Lag1'] = data['Return'].shift(1)\n",
    "data['RSI_Lag1'] = data['RSI'].shift(1)\n",
    "data['SMA_10_Lag1'] = data['SMA_10'].shift(1)\n",
    "data['SMA_50_Lag1'] = data['SMA_50'].shift(1)\n",
    "\n",
    "# Drop NaN values after adding new features\n",
    "data.dropna(inplace=True)"
   ]
  },
  {
   "cell_type": "markdown",
   "metadata": {},
   "source": [
    "# train model"
   ]
  },
  {
   "cell_type": "code",
   "execution_count": 6,
   "metadata": {},
   "outputs": [],
   "source": [
    "# Define features and target\n",
    "features = [\n",
    "    'Return', 'Volume_Change', 'SMA_10', 'SMA_50', 'RSI', 'MACD', 'MACD_Signal',\n",
    "    'BB_upper', 'BB_middle', 'BB_lower', 'Momentum', 'Return_Lag1', 'RSI_Lag1',\n",
    "    'SMA_10_Lag1', 'SMA_50_Lag1', 'Volatility', 'Stochastic'\n",
    "]\n",
    "\n",
    "# แปลง return เป็น 0, 1 สำหรับการทายวันจะขึ้นหรือลงเพื่อทำกำไรด้วยวิธีการ long short\n",
    "data['Target'] = np.where(data['Return'].shift(-1) > 0, 1, 0)  # 1 for up, 0 for down\n",
    "\n",
    "# แยก x y สำหรับการ train\n",
    "X = data[features]\n",
    "y = data['Target']\n",
    "\n",
    "# Standardize the features\n",
    "# สดกลตามค่า z (ภูเขา)\n",
    "scaler = StandardScaler()\n",
    "X_scaled = scaler.fit_transform(X)\n",
    "\n",
    "# Split data into training and testing sets\n",
    "X_train, X_test, y_train, y_test = train_test_split(X_scaled, y, test_size=0.2, random_state=42, shuffle=False)"
   ]
  },
  {
   "cell_type": "code",
   "execution_count": 7,
   "metadata": {},
   "outputs": [
    {
     "name": "stdout",
     "output_type": "stream",
     "text": [
      "Fitting 3 folds for each of 324 candidates, totalling 972 fits\n",
      "Best Hyperparameters: {'colsample_bytree': 0.7, 'learning_rate': 0.2, 'max_depth': 3, 'n_estimators': 100, 'subsample': 0.8}\n",
      "Cross-Validation Accuracy: 0.43 (+/- 0.07)\n",
      "Test Accuracy: 0.49\n"
     ]
    }
   ],
   "source": [
    "# Use GridSearchCV to tune hyperparameters for better performance\n",
    "# พาราเมเตอร์สำหรับการ train\n",
    "param_grid = {\n",
    "    'n_estimators': [100, 200, 300],\n",
    "    'max_depth': [3, 5, 7],\n",
    "    'learning_rate': [0.01, 0.05, 0.1, 0.2],\n",
    "    'subsample': [0.8, 0.9, 1.0],\n",
    "    'colsample_bytree': [0.7, 0.8, 1.0]\n",
    "}\n",
    "grid_search = GridSearchCV(XGBClassifier(random_state=42), param_grid, cv=3, n_jobs=-1, verbose=2)\n",
    "grid_search.fit(X_train, y_train)\n",
    "\n",
    "# Print the best hyperparameters from GridSearchCV\n",
    "print(\"Best Hyperparameters:\", grid_search.best_params_)\n",
    "\n",
    "# Train the best model found by GridSearchCV\n",
    "best_model = grid_search.best_estimator_\n",
    "\n",
    "# Evaluate the model using cross-validation\n",
    "cv_scores = cross_val_score(best_model, X_train, y_train, cv=5)\n",
    "print(f\"Cross-Validation Accuracy: {cv_scores.mean():.2f} (+/- {cv_scores.std():.2f})\")\n",
    "\n",
    "# Make predictions and evaluate on the test set\n",
    "y_pred = best_model.predict(X_test)\n",
    "accuracy = accuracy_score(y_test, y_pred)\n",
    "print(f\"Test Accuracy: {accuracy:.2f}\")"
   ]
  },
  {
   "cell_type": "markdown",
   "metadata": {},
   "source": [
    "# back test"
   ]
  },
  {
   "cell_type": "markdown",
   "metadata": {},
   "source": [
    "เพิ่มค่าธรรมเนียม 0.1%\n",
    "ลองเพิ่ม csv เพื่อดูค่าดิบของการทำงาน\n",
    "nav ส่วนใหญ่เริ่มต้นที่ 10"
   ]
  },
  {
   "cell_type": "code",
   "execution_count": 8,
   "metadata": {},
   "outputs": [],
   "source": [
    "# Backtesting with updated features and better portfolio simulation\n",
    "capital = 10  # Initial capital\n",
    "capital_history = []\n",
    "\n",
    "# Map test indices to the original DataFrame\n",
    "test_indices = y_test.index.to_list() # คาดว่าวันไม่เรียง\n",
    "\n",
    "# Trade logic with stop-loss and take-profit to reduce risk\n",
    "for i in range(len(test_indices) - 1):\n",
    "    current_idx = test_indices[i]\n",
    "    next_idx = test_indices[i + 1]\n",
    "\n",
    "    prediction = best_model.predict([X_test[i]])[0]\n",
    "    price_today = data['Close'].loc[current_idx][\"BTC-USD\"]\n",
    "    price_next_day = data['Close'].loc[next_idx][\"BTC-USD\"]\n",
    "\n",
    "    # Set stop-loss and take-profit levels\n",
    "    stop_loss_pct = 0.02  # 2% stop loss\n",
    "    take_profit_pct = 0.05  # 5% take profit\n",
    "    # Long position logic (buy if predicted up)\n",
    "    if prediction == 1:\n",
    "        profit = (price_next_day - price_today) / price_today * capital\n",
    "        if profit < -stop_loss_pct * capital:\n",
    "            profit = -stop_loss_pct * capital  # Stop loss triggered\n",
    "        elif profit > take_profit_pct * capital:\n",
    "            profit = take_profit_pct * capital  # Take profit triggered\n",
    "    else:  # Short position logic (sell if predicted down)\n",
    "        profit = (price_today - price_next_day) / price_today * capital\n",
    "        if profit < -stop_loss_pct * capital:\n",
    "            profit = -stop_loss_pct * capital  # Stop loss triggered\n",
    "        elif profit > take_profit_pct * capital:\n",
    "            profit = take_profit_pct * capital  # Take profit triggered\n",
    "\n",
    "    capital += profit\n",
    "    capital_history.append(capital)"
   ]
  },
  {
   "cell_type": "markdown",
   "metadata": {},
   "source": [
    "# เพิ่มเติมฟังก์ชันสำหรับการหา CAGR, Max Drawdown, SD และเพิ่มกับการค่าธรรมเนียม"
   ]
  },
  {
   "cell_type": "code",
   "execution_count": 24,
   "metadata": {},
   "outputs": [],
   "source": [
    "# Backtesting with updated features and better portfolio simulation\n",
    "capital = 10000  # Initial capital\n",
    "capital_history = []\n",
    "\n",
    "my_dict = {\"price_today\": [], \"price_next_day\": [], \"prediction\": [], \"capital\": [], \"profit\": []}\n",
    "\n",
    "# Map test indices to the original DataFrame\n",
    "test_indices = y_test.index.to_list() # คาดว่าวันไม่เรียง\n",
    "\n",
    "# Trade logic with stop-loss and take-profit to reduce risk\n",
    "for i in range(len(test_indices) - 1):\n",
    "    current_idx = test_indices[i]\n",
    "    next_idx = test_indices[i + 1]\n",
    "\n",
    "    prediction = best_model.predict([X_test[i]])[0]\n",
    "    price_today = data['Close'].loc[current_idx][\"BTC-USD\"]\n",
    "    price_next_day = data['Close'].loc[next_idx][\"BTC-USD\"]\n",
    "\n",
    "    # Set stop-loss and take-profit levels\n",
    "    stop_loss_pct = 0.02  # 2% stop loss\n",
    "    take_profit_pct = 0.05  # 5% take profit\n",
    "\n",
    "    capital *= 0.999 # หักค่าธรรมเนีม\n",
    "\n",
    "    # Long position logic (buy if predicted up)\n",
    "    if prediction == 1:\n",
    "        profit = (price_next_day - price_today) / price_today * capital\n",
    "        if profit < -stop_loss_pct * capital:\n",
    "            profit = -stop_loss_pct * capital  # Stop loss triggered\n",
    "        elif profit > take_profit_pct * capital:\n",
    "            profit = take_profit_pct * capital  # Take profit triggered\n",
    "    else:  # Short position logic (sell if predicted down)\n",
    "        profit = (price_today - price_next_day) / price_today * capital\n",
    "        if profit < -stop_loss_pct * capital:\n",
    "            profit = -stop_loss_pct * capital  # Stop loss triggered\n",
    "        elif profit > take_profit_pct * capital:\n",
    "            profit = take_profit_pct * capital  # Take profit triggered    \n",
    "\n",
    "    capital += profit\n",
    "    \n",
    "    capital *= 0.999\n",
    "\n",
    "    capital_history.append(capital)\n",
    "    my_dict[\"price_today\"].append(price_today)\n",
    "    my_dict[\"price_next_day\"].append(price_next_day)\n",
    "    my_dict[\"prediction\"].append(prediction)\n",
    "    my_dict[\"capital\"].append(capital)\n",
    "    my_dict[\"profit\"].append(profit)"
   ]
  },
  {
   "cell_type": "code",
   "execution_count": 10,
   "metadata": {},
   "outputs": [],
   "source": [
    "import pandas as pd\n",
    "\n",
    "df = pd.DataFrame(my_dict)\n",
    "df.to_csv(\"all_history.csv\", index=False)"
   ]
  },
  {
   "cell_type": "markdown",
   "metadata": {},
   "source": [
    "ค่าที่ต้องเอาเวลาทำกองทุน\n",
    "- cagr เป็นรีเทินเฉลี่ยต่อปี สูตรคือ = ( ราคาสุดท้าย / ราคาตั้งต้น )^(1 / จำนวนปี) - 1\n",
    "- max drarwdown\n",
    "- sd ความผันผวน"
   ]
  },
  {
   "cell_type": "code",
   "execution_count": null,
   "metadata": {},
   "outputs": [],
   "source": [
    "def cal_cagr(year, history):\n",
    "    day = 365 * year\n",
    "    if day < len(history):\n",
    "        cagr = (history[-1] / history[-day])**(1 / year) - 1\n",
    "        cagr *= 100\n",
    "        return cagr\n",
    "    else:\n",
    "        print(\"cant find cagr\")\n",
    "        return 0\n",
    "\n",
    "print(cal_cagr(1, capital_history))"
   ]
  },
  {
   "cell_type": "code",
   "execution_count": null,
   "metadata": {},
   "outputs": [],
   "source": [
    "def cal_max_drawdown(history):\n",
    "    max_drawdown = 0\n",
    "    peak = 0\n",
    "    index_peak = 0\n",
    "    index_trough = 0\n",
    "    index_use_peak = 0\n",
    "    for i in range(len(history)):\n",
    "        if history[i] > peak:\n",
    "            peak = history[i]\n",
    "            index_peak = i\n",
    "        else:\n",
    "            drawdown = (peak - history[i]) / peak\n",
    "            if drawdown > max_drawdown:\n",
    "                max_drawdown = drawdown\n",
    "                index_use_peak = index_peak\n",
    "                index_trough = i\n",
    "    return max_drawdown, index_use_peak, index_trough\n",
    "\n",
    "print(cal_max_drawdown(capital_history))"
   ]
  },
  {
   "cell_type": "code",
   "execution_count": null,
   "metadata": {},
   "outputs": [],
   "source": [
    "def cal_sd(history):\n",
    "    history = np.array(history)\n",
    "    return np.std(history)\n",
    "\n",
    "print(cal_sd(capital_history))"
   ]
  },
  {
   "cell_type": "code",
   "execution_count": 25,
   "metadata": {},
   "outputs": [
    {
     "data": {
      "image/png": "[encoded data removed]",
      "text/plain": [
       "<Figure size 1200x600 with 1 Axes>"
      ]
     },
     "metadata": {},
     "output_type": "display_data"
    }
   ],
   "source": [
    "# Plot backtest results\n",
    "plt.figure(figsize=(12, 6))\n",
    "plt.plot(capital_history, label='Portfolio Value')\n",
    "plt.title('Backtest of Enhanced BTC Long/Short Strategy')\n",
    "plt.xlabel('Trade Days')\n",
    "plt.ylabel('Portfolio Value (USD)')\n",
    "plt.legend()\n",
    "plt.grid(True)\n",
    "plt.show()"
   ]
  },
  {
   "cell_type": "markdown",
   "metadata": {},
   "source": [
    "# เพิ่มเติม\n",
    "ตัวที่เหมาะกับการเทรดทองมากที่สุดเป็น xau\n",
    "ส่วนตัวที่ gpt แนะนำมา มันไม่ค่อยดี\n",
    "ดูไอเดียวเรื่องทองมาหน่อยว่าเป็นไงมั้ง ว่าจะใช้วิธีไหนดี\n",
    "เวลาเอาเป็น 5 ปีไปดูวิธีการที่จะใช้มาด้วย\n",
    "train 4 test 1"
   ]
  }
 ],
 "metadata": {
  "kernelspec": {
   "display_name": "venv",
   "language": "python",
   "name": "python3"
  },
  "language_info": {
   "codemirror_mode": {
    "name": "ipython",
    "version": 3
   },
   "file_extension": ".py",
   "mimetype": "text/x-python",
   "name": "python",
   "nbconvert_exporter": "python",
   "pygments_lexer": "ipython3",
   "version": "3.10.11"
  }
 },
 "nbformat": 4,
 "nbformat_minor": 2
}
